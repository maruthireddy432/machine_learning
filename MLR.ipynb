{
 "cells": [
  {
   "cell_type": "code",
   "execution_count": 8,
   "metadata": {},
   "outputs": [],
   "source": [
    "import pandas as pd\n",
    "import matplotlib.pyplot as plt\n",
    "import seaborn as sns\n",
    "import warnings\n",
    "warnings.filterwarnings('ignore')"
   ]
  },
  {
   "cell_type": "code",
   "execution_count": 9,
   "metadata": {},
   "outputs": [
    {
     "data": {
      "text/html": [
       "<div>\n",
       "<style scoped>\n",
       "    .dataframe tbody tr th:only-of-type {\n",
       "        vertical-align: middle;\n",
       "    }\n",
       "\n",
       "    .dataframe tbody tr th {\n",
       "        vertical-align: top;\n",
       "    }\n",
       "\n",
       "    .dataframe thead th {\n",
       "        text-align: right;\n",
       "    }\n",
       "</style>\n",
       "<table border=\"1\" class=\"dataframe\">\n",
       "  <thead>\n",
       "    <tr style=\"text-align: right;\">\n",
       "      <th></th>\n",
       "      <th>Price</th>\n",
       "      <th>Age_08_04</th>\n",
       "      <th>KM</th>\n",
       "      <th>Fuel_Type</th>\n",
       "      <th>HP</th>\n",
       "      <th>Automatic</th>\n",
       "      <th>cc</th>\n",
       "      <th>Doors</th>\n",
       "      <th>Cylinders</th>\n",
       "      <th>Gears</th>\n",
       "      <th>Weight</th>\n",
       "    </tr>\n",
       "  </thead>\n",
       "  <tbody>\n",
       "    <tr>\n",
       "      <th>0</th>\n",
       "      <td>13500</td>\n",
       "      <td>23</td>\n",
       "      <td>46986</td>\n",
       "      <td>Diesel</td>\n",
       "      <td>90</td>\n",
       "      <td>0</td>\n",
       "      <td>2000</td>\n",
       "      <td>3</td>\n",
       "      <td>4</td>\n",
       "      <td>5</td>\n",
       "      <td>1165</td>\n",
       "    </tr>\n",
       "    <tr>\n",
       "      <th>1</th>\n",
       "      <td>13750</td>\n",
       "      <td>23</td>\n",
       "      <td>72937</td>\n",
       "      <td>Diesel</td>\n",
       "      <td>90</td>\n",
       "      <td>0</td>\n",
       "      <td>2000</td>\n",
       "      <td>3</td>\n",
       "      <td>4</td>\n",
       "      <td>5</td>\n",
       "      <td>1165</td>\n",
       "    </tr>\n",
       "    <tr>\n",
       "      <th>2</th>\n",
       "      <td>13950</td>\n",
       "      <td>24</td>\n",
       "      <td>41711</td>\n",
       "      <td>Diesel</td>\n",
       "      <td>90</td>\n",
       "      <td>0</td>\n",
       "      <td>2000</td>\n",
       "      <td>3</td>\n",
       "      <td>4</td>\n",
       "      <td>5</td>\n",
       "      <td>1165</td>\n",
       "    </tr>\n",
       "    <tr>\n",
       "      <th>3</th>\n",
       "      <td>14950</td>\n",
       "      <td>26</td>\n",
       "      <td>48000</td>\n",
       "      <td>Diesel</td>\n",
       "      <td>90</td>\n",
       "      <td>0</td>\n",
       "      <td>2000</td>\n",
       "      <td>3</td>\n",
       "      <td>4</td>\n",
       "      <td>5</td>\n",
       "      <td>1165</td>\n",
       "    </tr>\n",
       "    <tr>\n",
       "      <th>4</th>\n",
       "      <td>13750</td>\n",
       "      <td>30</td>\n",
       "      <td>38500</td>\n",
       "      <td>Diesel</td>\n",
       "      <td>90</td>\n",
       "      <td>0</td>\n",
       "      <td>2000</td>\n",
       "      <td>3</td>\n",
       "      <td>4</td>\n",
       "      <td>5</td>\n",
       "      <td>1170</td>\n",
       "    </tr>\n",
       "    <tr>\n",
       "      <th>...</th>\n",
       "      <td>...</td>\n",
       "      <td>...</td>\n",
       "      <td>...</td>\n",
       "      <td>...</td>\n",
       "      <td>...</td>\n",
       "      <td>...</td>\n",
       "      <td>...</td>\n",
       "      <td>...</td>\n",
       "      <td>...</td>\n",
       "      <td>...</td>\n",
       "      <td>...</td>\n",
       "    </tr>\n",
       "    <tr>\n",
       "      <th>1431</th>\n",
       "      <td>7500</td>\n",
       "      <td>69</td>\n",
       "      <td>20544</td>\n",
       "      <td>Petrol</td>\n",
       "      <td>86</td>\n",
       "      <td>0</td>\n",
       "      <td>1300</td>\n",
       "      <td>3</td>\n",
       "      <td>4</td>\n",
       "      <td>5</td>\n",
       "      <td>1025</td>\n",
       "    </tr>\n",
       "    <tr>\n",
       "      <th>1432</th>\n",
       "      <td>10845</td>\n",
       "      <td>72</td>\n",
       "      <td>19000</td>\n",
       "      <td>Petrol</td>\n",
       "      <td>86</td>\n",
       "      <td>0</td>\n",
       "      <td>1300</td>\n",
       "      <td>3</td>\n",
       "      <td>4</td>\n",
       "      <td>5</td>\n",
       "      <td>1015</td>\n",
       "    </tr>\n",
       "    <tr>\n",
       "      <th>1433</th>\n",
       "      <td>8500</td>\n",
       "      <td>71</td>\n",
       "      <td>17016</td>\n",
       "      <td>Petrol</td>\n",
       "      <td>86</td>\n",
       "      <td>0</td>\n",
       "      <td>1300</td>\n",
       "      <td>3</td>\n",
       "      <td>4</td>\n",
       "      <td>5</td>\n",
       "      <td>1015</td>\n",
       "    </tr>\n",
       "    <tr>\n",
       "      <th>1434</th>\n",
       "      <td>7250</td>\n",
       "      <td>70</td>\n",
       "      <td>16916</td>\n",
       "      <td>Petrol</td>\n",
       "      <td>86</td>\n",
       "      <td>0</td>\n",
       "      <td>1300</td>\n",
       "      <td>3</td>\n",
       "      <td>4</td>\n",
       "      <td>5</td>\n",
       "      <td>1015</td>\n",
       "    </tr>\n",
       "    <tr>\n",
       "      <th>1435</th>\n",
       "      <td>6950</td>\n",
       "      <td>76</td>\n",
       "      <td>1</td>\n",
       "      <td>Petrol</td>\n",
       "      <td>110</td>\n",
       "      <td>0</td>\n",
       "      <td>1600</td>\n",
       "      <td>5</td>\n",
       "      <td>4</td>\n",
       "      <td>5</td>\n",
       "      <td>1114</td>\n",
       "    </tr>\n",
       "  </tbody>\n",
       "</table>\n",
       "<p>1436 rows × 11 columns</p>\n",
       "</div>"
      ],
      "text/plain": [
       "      Price  Age_08_04     KM Fuel_Type   HP  Automatic    cc  Doors  \\\n",
       "0     13500         23  46986    Diesel   90          0  2000      3   \n",
       "1     13750         23  72937    Diesel   90          0  2000      3   \n",
       "2     13950         24  41711    Diesel   90          0  2000      3   \n",
       "3     14950         26  48000    Diesel   90          0  2000      3   \n",
       "4     13750         30  38500    Diesel   90          0  2000      3   \n",
       "...     ...        ...    ...       ...  ...        ...   ...    ...   \n",
       "1431   7500         69  20544    Petrol   86          0  1300      3   \n",
       "1432  10845         72  19000    Petrol   86          0  1300      3   \n",
       "1433   8500         71  17016    Petrol   86          0  1300      3   \n",
       "1434   7250         70  16916    Petrol   86          0  1300      3   \n",
       "1435   6950         76      1    Petrol  110          0  1600      5   \n",
       "\n",
       "      Cylinders  Gears  Weight  \n",
       "0             4      5    1165  \n",
       "1             4      5    1165  \n",
       "2             4      5    1165  \n",
       "3             4      5    1165  \n",
       "4             4      5    1170  \n",
       "...         ...    ...     ...  \n",
       "1431          4      5    1025  \n",
       "1432          4      5    1015  \n",
       "1433          4      5    1015  \n",
       "1434          4      5    1015  \n",
       "1435          4      5    1114  \n",
       "\n",
       "[1436 rows x 11 columns]"
      ]
     },
     "execution_count": 9,
     "metadata": {},
     "output_type": "execute_result"
    }
   ],
   "source": [
    "df=pd.read_csv(\"ToyotaCorolla - MLR.csv\")\n",
    "df"
   ]
  },
  {
   "cell_type": "code",
   "execution_count": 10,
   "metadata": {},
   "outputs": [
    {
     "data": {
      "text/plain": [
       "Price        0\n",
       "Age_08_04    0\n",
       "KM           0\n",
       "Fuel_Type    0\n",
       "HP           0\n",
       "Automatic    0\n",
       "cc           0\n",
       "Doors        0\n",
       "Cylinders    0\n",
       "Gears        0\n",
       "Weight       0\n",
       "dtype: int64"
      ]
     },
     "execution_count": 10,
     "metadata": {},
     "output_type": "execute_result"
    }
   ],
   "source": [
    "df.isnull().sum()"
   ]
  },
  {
   "cell_type": "code",
   "execution_count": 11,
   "metadata": {},
   "outputs": [
    {
     "name": "stdout",
     "output_type": "stream",
     "text": [
      "<class 'pandas.core.frame.DataFrame'>\n",
      "RangeIndex: 1436 entries, 0 to 1435\n",
      "Data columns (total 11 columns):\n",
      " #   Column     Non-Null Count  Dtype \n",
      "---  ------     --------------  ----- \n",
      " 0   Price      1436 non-null   int64 \n",
      " 1   Age_08_04  1436 non-null   int64 \n",
      " 2   KM         1436 non-null   int64 \n",
      " 3   Fuel_Type  1436 non-null   object\n",
      " 4   HP         1436 non-null   int64 \n",
      " 5   Automatic  1436 non-null   int64 \n",
      " 6   cc         1436 non-null   int64 \n",
      " 7   Doors      1436 non-null   int64 \n",
      " 8   Cylinders  1436 non-null   int64 \n",
      " 9   Gears      1436 non-null   int64 \n",
      " 10  Weight     1436 non-null   int64 \n",
      "dtypes: int64(10), object(1)\n",
      "memory usage: 123.5+ KB\n"
     ]
    }
   ],
   "source": [
    "df.info()"
   ]
  },
  {
   "cell_type": "markdown",
   "metadata": {},
   "source": [
    "No nulls! and everything looks good, so that we can move further."
   ]
  },
  {
   "cell_type": "markdown",
   "metadata": {},
   "source": [
    "Exploratory data analysis"
   ]
  },
  {
   "cell_type": "code",
   "execution_count": 12,
   "metadata": {},
   "outputs": [
    {
     "data": {
      "text/plain": [
       "<matplotlib.collections.PathCollection at 0x243277477a0>"
      ]
     },
     "execution_count": 12,
     "metadata": {},
     "output_type": "execute_result"
    },
    {
     "data": {
      "image/png": "[encoded data removed]",
      "text/plain": [
       "<Figure size 640x480 with 1 Axes>"
      ]
     },
     "metadata": {},
     "output_type": "display_data"
    }
   ],
   "source": [
    "plt.scatter(x='KM',y='Price',data=df)"
   ]
  },
  {
   "cell_type": "code",
   "execution_count": 13,
   "metadata": {},
   "outputs": [
    {
     "data": {
      "text/plain": [
       "<matplotlib.collections.PathCollection at 0x24327b2c1a0>"
      ]
     },
     "execution_count": 13,
     "metadata": {},
     "output_type": "execute_result"
    },
    {
     "data": {
      "image/png": "[encoded data removed]",
      "text/plain": [
       "<Figure size 640x480 with 1 Axes>"
      ]
     },
     "metadata": {},
     "output_type": "display_data"
    }
   ],
   "source": [
    "plt.scatter(y='Price',x='Age_08_04',data=df)"
   ]
  },
  {
   "cell_type": "code",
   "execution_count": 14,
   "metadata": {},
   "outputs": [
    {
     "data": {
      "text/plain": [
       "(array([110., 706., 343., 114.,  75.,  59.,  22.,   4.,   0.,   3.]),\n",
       " array([ 4350.,  7165.,  9980., 12795., 15610., 18425., 21240., 24055.,\n",
       "        26870., 29685., 32500.]),\n",
       " <BarContainer object of 10 artists>)"
      ]
     },
     "execution_count": 14,
     "metadata": {},
     "output_type": "execute_result"
    },
    {
     "data": {
      "image/png": "[encoded data removed]",
      "text/plain": [
       "<Figure size 640x480 with 1 Axes>"
      ]
     },
     "metadata": {},
     "output_type": "display_data"
    }
   ],
   "source": [
    "plt.hist(x='Price',data=df)"
   ]
  },
  {
   "cell_type": "code",
   "execution_count": 15,
   "metadata": {},
   "outputs": [
    {
     "data": {
      "text/plain": [
       "<Axes: xlabel='Fuel_Type'>"
      ]
     },
     "execution_count": 15,
     "metadata": {},
     "output_type": "execute_result"
    },
    {
     "data": {
      "image/png": "[encoded data removed]",
      "text/plain": [
       "<Figure size 640x480 with 1 Axes>"
      ]
     },
     "metadata": {},
     "output_type": "display_data"
    }
   ],
   "source": [
    "pd.crosstab(df.Fuel_Type,df.Gears).plot(kind='bar')"
   ]
  },
  {
   "cell_type": "code",
   "execution_count": 16,
   "metadata": {},
   "outputs": [
    {
     "data": {
      "text/plain": [
       "<Axes: xlabel='Automatic'>"
      ]
     },
     "execution_count": 16,
     "metadata": {},
     "output_type": "execute_result"
    },
    {
     "data": {
      "image/png": "[encoded data removed]",
      "text/plain": [
       "<Figure size 640x480 with 1 Axes>"
      ]
     },
     "metadata": {},
     "output_type": "display_data"
    }
   ],
   "source": [
    "pd.crosstab(df.Automatic,df.Gears).plot(kind='bar')"
   ]
  },
  {
   "cell_type": "code",
   "execution_count": 17,
   "metadata": {},
   "outputs": [
    {
     "data": {
      "text/plain": [
       "(array([ 155.,    0.,    0.,    0.,    0., 1264.,    0.,    0.,    0.,\n",
       "          17.]),\n",
       " array([0. , 0.2, 0.4, 0.6, 0.8, 1. , 1.2, 1.4, 1.6, 1.8, 2. ]),\n",
       " <BarContainer object of 10 artists>)"
      ]
     },
     "execution_count": 17,
     "metadata": {},
     "output_type": "execute_result"
    },
    {
     "data": {
      "image/png": "[encoded data removed]",
      "text/plain": [
       "<Figure size 640x480 with 1 Axes>"
      ]
     },
     "metadata": {},
     "output_type": "display_data"
    }
   ],
   "source": [
    "plt.hist(x='Fuel_Type',data=df)"
   ]
  },
  {
   "cell_type": "code",
   "execution_count": 18,
   "metadata": {},
   "outputs": [],
   "source": [
    "from sklearn import preprocessing\n",
    "encoder=preprocessing.LabelEncoder()\n",
    "df['Fuel_Type']=encoder.fit_transform(df['Fuel_Type'])"
   ]
  },
  {
   "cell_type": "code",
   "execution_count": 19,
   "metadata": {},
   "outputs": [
    {
     "data": {
      "text/html": [
       "<div>\n",
       "<style scoped>\n",
       "    .dataframe tbody tr th:only-of-type {\n",
       "        vertical-align: middle;\n",
       "    }\n",
       "\n",
       "    .dataframe tbody tr th {\n",
       "        vertical-align: top;\n",
       "    }\n",
       "\n",
       "    .dataframe thead th {\n",
       "        text-align: right;\n",
       "    }\n",
       "</style>\n",
       "<table border=\"1\" class=\"dataframe\">\n",
       "  <thead>\n",
       "    <tr style=\"text-align: right;\">\n",
       "      <th></th>\n",
       "      <th>Price</th>\n",
       "      <th>Age_08_04</th>\n",
       "      <th>KM</th>\n",
       "      <th>Fuel_Type</th>\n",
       "      <th>HP</th>\n",
       "      <th>Automatic</th>\n",
       "      <th>cc</th>\n",
       "      <th>Doors</th>\n",
       "      <th>Cylinders</th>\n",
       "      <th>Gears</th>\n",
       "      <th>Weight</th>\n",
       "    </tr>\n",
       "  </thead>\n",
       "  <tbody>\n",
       "    <tr>\n",
       "      <th>0</th>\n",
       "      <td>13500</td>\n",
       "      <td>23</td>\n",
       "      <td>46986</td>\n",
       "      <td>1</td>\n",
       "      <td>90</td>\n",
       "      <td>0</td>\n",
       "      <td>2000</td>\n",
       "      <td>3</td>\n",
       "      <td>4</td>\n",
       "      <td>5</td>\n",
       "      <td>1165</td>\n",
       "    </tr>\n",
       "    <tr>\n",
       "      <th>1</th>\n",
       "      <td>13750</td>\n",
       "      <td>23</td>\n",
       "      <td>72937</td>\n",
       "      <td>1</td>\n",
       "      <td>90</td>\n",
       "      <td>0</td>\n",
       "      <td>2000</td>\n",
       "      <td>3</td>\n",
       "      <td>4</td>\n",
       "      <td>5</td>\n",
       "      <td>1165</td>\n",
       "    </tr>\n",
       "    <tr>\n",
       "      <th>2</th>\n",
       "      <td>13950</td>\n",
       "      <td>24</td>\n",
       "      <td>41711</td>\n",
       "      <td>1</td>\n",
       "      <td>90</td>\n",
       "      <td>0</td>\n",
       "      <td>2000</td>\n",
       "      <td>3</td>\n",
       "      <td>4</td>\n",
       "      <td>5</td>\n",
       "      <td>1165</td>\n",
       "    </tr>\n",
       "    <tr>\n",
       "      <th>3</th>\n",
       "      <td>14950</td>\n",
       "      <td>26</td>\n",
       "      <td>48000</td>\n",
       "      <td>1</td>\n",
       "      <td>90</td>\n",
       "      <td>0</td>\n",
       "      <td>2000</td>\n",
       "      <td>3</td>\n",
       "      <td>4</td>\n",
       "      <td>5</td>\n",
       "      <td>1165</td>\n",
       "    </tr>\n",
       "    <tr>\n",
       "      <th>4</th>\n",
       "      <td>13750</td>\n",
       "      <td>30</td>\n",
       "      <td>38500</td>\n",
       "      <td>1</td>\n",
       "      <td>90</td>\n",
       "      <td>0</td>\n",
       "      <td>2000</td>\n",
       "      <td>3</td>\n",
       "      <td>4</td>\n",
       "      <td>5</td>\n",
       "      <td>1170</td>\n",
       "    </tr>\n",
       "    <tr>\n",
       "      <th>...</th>\n",
       "      <td>...</td>\n",
       "      <td>...</td>\n",
       "      <td>...</td>\n",
       "      <td>...</td>\n",
       "      <td>...</td>\n",
       "      <td>...</td>\n",
       "      <td>...</td>\n",
       "      <td>...</td>\n",
       "      <td>...</td>\n",
       "      <td>...</td>\n",
       "      <td>...</td>\n",
       "    </tr>\n",
       "    <tr>\n",
       "      <th>1431</th>\n",
       "      <td>7500</td>\n",
       "      <td>69</td>\n",
       "      <td>20544</td>\n",
       "      <td>2</td>\n",
       "      <td>86</td>\n",
       "      <td>0</td>\n",
       "      <td>1300</td>\n",
       "      <td>3</td>\n",
       "      <td>4</td>\n",
       "      <td>5</td>\n",
       "      <td>1025</td>\n",
       "    </tr>\n",
       "    <tr>\n",
       "      <th>1432</th>\n",
       "      <td>10845</td>\n",
       "      <td>72</td>\n",
       "      <td>19000</td>\n",
       "      <td>2</td>\n",
       "      <td>86</td>\n",
       "      <td>0</td>\n",
       "      <td>1300</td>\n",
       "      <td>3</td>\n",
       "      <td>4</td>\n",
       "      <td>5</td>\n",
       "      <td>1015</td>\n",
       "    </tr>\n",
       "    <tr>\n",
       "      <th>1433</th>\n",
       "      <td>8500</td>\n",
       "      <td>71</td>\n",
       "      <td>17016</td>\n",
       "      <td>2</td>\n",
       "      <td>86</td>\n",
       "      <td>0</td>\n",
       "      <td>1300</td>\n",
       "      <td>3</td>\n",
       "      <td>4</td>\n",
       "      <td>5</td>\n",
       "      <td>1015</td>\n",
       "    </tr>\n",
       "    <tr>\n",
       "      <th>1434</th>\n",
       "      <td>7250</td>\n",
       "      <td>70</td>\n",
       "      <td>16916</td>\n",
       "      <td>2</td>\n",
       "      <td>86</td>\n",
       "      <td>0</td>\n",
       "      <td>1300</td>\n",
       "      <td>3</td>\n",
       "      <td>4</td>\n",
       "      <td>5</td>\n",
       "      <td>1015</td>\n",
       "    </tr>\n",
       "    <tr>\n",
       "      <th>1435</th>\n",
       "      <td>6950</td>\n",
       "      <td>76</td>\n",
       "      <td>1</td>\n",
       "      <td>2</td>\n",
       "      <td>110</td>\n",
       "      <td>0</td>\n",
       "      <td>1600</td>\n",
       "      <td>5</td>\n",
       "      <td>4</td>\n",
       "      <td>5</td>\n",
       "      <td>1114</td>\n",
       "    </tr>\n",
       "  </tbody>\n",
       "</table>\n",
       "<p>1436 rows × 11 columns</p>\n",
       "</div>"
      ],
      "text/plain": [
       "      Price  Age_08_04     KM  Fuel_Type   HP  Automatic    cc  Doors  \\\n",
       "0     13500         23  46986          1   90          0  2000      3   \n",
       "1     13750         23  72937          1   90          0  2000      3   \n",
       "2     13950         24  41711          1   90          0  2000      3   \n",
       "3     14950         26  48000          1   90          0  2000      3   \n",
       "4     13750         30  38500          1   90          0  2000      3   \n",
       "...     ...        ...    ...        ...  ...        ...   ...    ...   \n",
       "1431   7500         69  20544          2   86          0  1300      3   \n",
       "1432  10845         72  19000          2   86          0  1300      3   \n",
       "1433   8500         71  17016          2   86          0  1300      3   \n",
       "1434   7250         70  16916          2   86          0  1300      3   \n",
       "1435   6950         76      1          2  110          0  1600      5   \n",
       "\n",
       "      Cylinders  Gears  Weight  \n",
       "0             4      5    1165  \n",
       "1             4      5    1165  \n",
       "2             4      5    1165  \n",
       "3             4      5    1165  \n",
       "4             4      5    1170  \n",
       "...         ...    ...     ...  \n",
       "1431          4      5    1025  \n",
       "1432          4      5    1015  \n",
       "1433          4      5    1015  \n",
       "1434          4      5    1015  \n",
       "1435          4      5    1114  \n",
       "\n",
       "[1436 rows x 11 columns]"
      ]
     },
     "execution_count": 19,
     "metadata": {},
     "output_type": "execute_result"
    }
   ],
   "source": [
    "df"
   ]
  },
  {
   "cell_type": "markdown",
   "metadata": {},
   "source": [
    "splitting data for training and tessting"
   ]
  },
  {
   "cell_type": "code",
   "execution_count": 20,
   "metadata": {},
   "outputs": [],
   "source": [
    "from sklearn.model_selection import train_test_split\n",
    "y=df.Price\n",
    "x=df.drop('Price',axis=1)\n",
    "x_train,x_test,y_train,y_test=train_test_split(x,y,test_size=0.20)"
   ]
  },
  {
   "cell_type": "markdown",
   "metadata": {},
   "source": [
    "Building models"
   ]
  },
  {
   "cell_type": "code",
   "execution_count": 21,
   "metadata": {},
   "outputs": [
    {
     "data": {
      "text/plain": [
       "array([18656.07680732, 11570.12021553,  6688.32640962,  9812.05033991,\n",
       "       10811.07562134,  8100.17950825, 10924.67287717, 16086.45784723,\n",
       "       10115.24847614,  8846.980642  ,  7996.45107108, 10846.79377548,\n",
       "       13850.65229841,  7801.99320931, 17152.83762802, 10754.33103904,\n",
       "        7548.85876031,  9655.63565069,  7809.84098772, 10169.55104402,\n",
       "        8570.3816859 , 11776.57405047, 13980.16709024, 13246.17658653,\n",
       "        8115.92332122, 13263.07676725,  7804.50215833, 18213.91956594,\n",
       "       10421.16635274,  6354.33022872,  9880.57952103, 22195.47766646,\n",
       "        8310.22223403,  8183.88735567,  6930.69935232, 10665.51320464,\n",
       "        6462.10401691,  8423.77043521,  7894.56208573, 11326.24588074,\n",
       "       10281.20415968, 13215.66169955,  9261.8445878 , 10575.58007394,\n",
       "        9191.5507209 , 17814.78550821, 10800.28321041, 14853.82056553,\n",
       "        9570.07560768,  9882.45840908,  6979.72142252,  9152.80058238,\n",
       "        8628.36627865, 10170.17548446, 11405.63424776, 12472.8907093 ,\n",
       "        7218.22094137, 15949.38160991, 13002.4367564 , 15789.42584421,\n",
       "        8915.27793741,  9421.85516856, 10340.87035336, 11954.81496222,\n",
       "       10318.18414505, 11112.68221282, 13521.91562965,  8680.53026658,\n",
       "        8891.0272899 ,  7680.81005414,  7950.3619765 , 17547.93056764,\n",
       "        5599.61046264, 14814.71241522,  7878.09222087, 15558.02328833,\n",
       "       10698.31512041, 13280.26692544, 10116.75956211, 16473.20465483,\n",
       "        8052.98997818, 10338.95583693, 12947.8717954 ,  9558.6266961 ,\n",
       "        9495.70091168,  9115.77709161,  6300.25693994,  8102.52233981,\n",
       "       12127.03704343, 10742.87035885,  5523.81561211,  8659.67745798,\n",
       "       14228.71169276, 11695.8247166 , 10879.59124185, 13784.6024326 ,\n",
       "        7652.56553481,  8957.98136718, 11705.59052454, 10252.70210929,\n",
       "        6605.78562197, 11235.60238562,  9209.08099717, 10314.50261291,\n",
       "       10673.63517275, 11435.26083244, 25887.93083521,  9462.15210732,\n",
       "       15219.58177735,  9899.50084994, 11739.75651686, 16195.05976234,\n",
       "       16700.74929629, 12909.04110686,  8901.62269505,  7009.75264084,\n",
       "       10550.69567613, 18946.08842966, 12898.12979524,  5731.23706855,\n",
       "       16579.14499053, 12820.75259221,  7911.39430609, 10085.22918198,\n",
       "       11229.45006635,  8165.92591346,  8278.60392346, 17673.86769631,\n",
       "       15806.49089523,  8663.1896263 ,  8503.43758886,  9416.17926497,\n",
       "        8730.10755436, 12871.229929  , 22195.47766646, 16654.86284421,\n",
       "       11063.84961233,  8209.08446119, 19960.59346675,  6488.72072385,\n",
       "        5629.86635204,  8762.02375417, 11355.08002509,  8094.732455  ,\n",
       "        6348.55905101,  9460.77797044, 13419.11502067, 11102.86557321,\n",
       "       13053.84305098, 12100.04015318, 17210.41312521, 16751.62888705,\n",
       "       19041.70583761,  7425.17644622,  7806.85921773, 15545.72948576,\n",
       "       15437.44414287,  7627.02344641, 10184.2504129 , 12191.8235125 ,\n",
       "        7916.31627662, 10650.22522048, 13814.6921746 , 14471.27781777,\n",
       "       10109.68004946, 11354.2648479 , 17884.31938369,  6879.18664869,\n",
       "        8657.36393433,  8634.49416632,  8917.18526157, 11313.30235148,\n",
       "       10866.50897576, 16074.76355143,  8275.51673672, 10605.75789026,\n",
       "        6971.02926669,  9148.68835756,  9279.72150142,  9675.77574849,\n",
       "        8550.03653211,  7914.03259804, 10095.34026973,  8404.62692188,\n",
       "        5580.72168163,  8619.07649901, 16555.58532575,  6079.63038609,\n",
       "        9500.99768504,  8031.03551637,  7442.74902532,  7157.80407114,\n",
       "       10072.72213561,  8412.09274007,  7862.68083303, 11701.30214025,\n",
       "        9699.02838184, 13864.8862859 ,  6399.69164023,  9519.28444469,\n",
       "        6669.81095406, 19048.71613614,  8675.1658105 ,  8389.3612682 ,\n",
       "       10002.03405447,  7759.81222953,  7810.49997986, 11902.78919076,\n",
       "        8064.37328916,  9526.57837989,  9342.98636994, 18049.17485528,\n",
       "       13242.8318522 ,  9482.71380258, 10813.20794714, 17794.50736739,\n",
       "       10769.58103064, 16669.39014356, 13470.11278939, 12931.48675158,\n",
       "       14295.21497743,  8549.93719343,  8117.54573448, 13269.78294245,\n",
       "       12067.99486615,  6886.02072797,  8627.84786888,  7796.40780891,\n",
       "       11619.10395966, 12966.05187235,  7342.84815548, 11301.2236367 ,\n",
       "       15998.18633502, 12504.75900102, 13673.92430855, 11417.80516852,\n",
       "        9799.29480317, 16570.71101512,  8315.69706311,  8990.43151365,\n",
       "        8275.33537733, 10085.4026532 ,  5397.03520436, 18239.47772839,\n",
       "       11352.16334452, 10446.9029616 ,  8395.52329528, 16541.43959278,\n",
       "       14798.23084794,  9973.59048881, 10815.03710789, 10322.12720421,\n",
       "       12212.94345177, 13971.95456285,  6423.74204331,  8758.18548252,\n",
       "        8592.58417014,  7040.64710687, 10226.0897292 , 19315.00381865,\n",
       "       12920.001908  , 12480.96172353, 10156.23439922,  9292.37611064,\n",
       "        8246.84207944,  6539.2925232 , 10236.03754193,  7946.94624727,\n",
       "        7357.30246786,  7845.74667162,  7946.33475243,  8077.74227876,\n",
       "        5422.80258662,  8577.61051839,  7971.46687327,  8065.75155856,\n",
       "       12975.26161293,  7985.29374022,  9933.7444351 , 10308.23162848,\n",
       "       13288.6727165 , 12848.92166421,  7956.37445245, 10703.18205913,\n",
       "       13590.84883093,  8667.45465759,  7585.75719113, 19063.25278846])"
      ]
     },
     "execution_count": 21,
     "metadata": {},
     "output_type": "execute_result"
    }
   ],
   "source": [
    "from sklearn.linear_model import LinearRegression\n",
    "model=LinearRegression()\n",
    "model.fit(x_train,y_train)\n",
    "pred_values_lr=model.predict(x_test)\n",
    "pred_values_lr"
   ]
  },
  {
   "cell_type": "markdown",
   "metadata": {},
   "source": [
    "Model Evaluation"
   ]
  },
  {
   "cell_type": "code",
   "execution_count": 22,
   "metadata": {},
   "outputs": [
    {
     "name": "stdout",
     "output_type": "stream",
     "text": [
      "accuracy=0.8784618510273963\n",
      "mean absolute error=984.1600784626753\n"
     ]
    }
   ],
   "source": [
    "# r2_score\n",
    "from sklearn.metrics import mean_absolute_error\n",
    "from sklearn.metrics import r2_score\n",
    "r2_score_lr=r2_score(y_test, pred_values_lr)\n",
    "# mean squared error\n",
    "mae=mean_absolute_error(y_test,pred_values_lr)\n",
    "print(f\"accuracy={r2_score_lr}\")\n",
    "print(f\"mean absolute error={mae}\")"
   ]
  },
  {
   "cell_type": "code",
   "execution_count": 23,
   "metadata": {},
   "outputs": [
    {
     "data": {
      "text/plain": [
       "array([21500.        , 11452.85714286,  7404.65517241,  9216.4787234 ,\n",
       "       10323.42105263,  8023.38016529, 10612.81081081, 17250.        ,\n",
       "        9216.4787234 ,  8785.71428571,  8615.38461538,  9839.79166667,\n",
       "       13085.66666667,  8023.38016529, 15500.        , 11452.85714286,\n",
       "        7630.81081081,  9417.85714286, 10950.        , 10179.5       ,\n",
       "        8785.71428571, 11019.23076923, 12524.32098765, 13085.66666667,\n",
       "        8023.38016529, 12524.32098765,  8023.38016529, 20244.44444444,\n",
       "       10031.25      ,  7404.65517241,  9839.79166667, 24990.        ,\n",
       "        8615.38461538,  9995.        ,  8023.38016529, 10323.42105263,\n",
       "        6600.        ,  7950.        ,  8532.14285714, 11226.37096774,\n",
       "       11226.37096774, 12524.32098765,  9495.        , 11226.37096774,\n",
       "        8615.38461538, 17591.5       , 10323.42105263, 13085.66666667,\n",
       "        9216.4787234 ,  8780.        ,  8390.        ,  9417.85714286,\n",
       "        9135.71428571, 11950.        , 10612.81081081, 12524.32098765,\n",
       "        8532.14285714, 17165.83333333, 12524.32098765, 15121.42857143,\n",
       "        8532.14285714,  9834.5       ,  9834.5       , 10612.81081081,\n",
       "       10612.81081081,  9839.79166667, 12524.32098765,  8785.71428571,\n",
       "        8785.71428571,  8023.38016529,  8203.63636364, 19054.09090909,\n",
       "        6562.5       , 15883.33333333,  8532.14285714, 15883.33333333,\n",
       "        9834.5       , 12524.32098765,  9417.85714286, 16225.        ,\n",
       "        8023.38016529, 10323.42105263, 12524.32098765,  9839.79166667,\n",
       "        9839.79166667,  8023.38016529,  7900.        ,  8023.38016529,\n",
       "       11226.37096774, 11950.        ,  6562.5       ,  9216.4787234 ,\n",
       "       12524.32098765, 11226.37096774, 10612.81081081, 13085.66666667,\n",
       "        8106.33333333,  8532.14285714, 10612.81081081,  9839.79166667,\n",
       "        7404.65517241,  9839.79166667,  9216.4787234 ,  9839.79166667,\n",
       "        9834.5       , 11452.85714286, 31275.        ,  9839.79166667,\n",
       "       15883.33333333, 10338.68421053, 10612.81081081, 17591.5       ,\n",
       "       16225.        , 12495.        ,  9216.4787234 ,  7630.81081081,\n",
       "        9839.79166667, 22100.        , 13085.66666667, 10500.        ,\n",
       "       18916.66666667, 12524.32098765,  8203.63636364, 10338.68421053,\n",
       "       10612.81081081,  9245.        ,  7750.        , 15900.        ,\n",
       "       15883.33333333,  8203.63636364,  8648.88888889,  9216.4787234 ,\n",
       "        9216.4787234 , 11452.85714286, 24990.        , 17242.        ,\n",
       "       10612.81081081,  8648.88888889, 22225.        ,  7404.65517241,\n",
       "        6562.5       ,  6950.        , 11362.27272727,  8023.38016529,\n",
       "        7404.65517241,  8785.71428571, 12524.32098765, 11452.85714286,\n",
       "       12524.32098765, 10612.81081081, 17242.        , 17242.        ,\n",
       "       23750.        ,  7630.81081081,  6950.        , 15883.33333333,\n",
       "       15883.33333333,  8023.38016529,  9839.79166667, 11226.37096774,\n",
       "        8023.38016529, 11950.        , 12524.32098765, 12524.32098765,\n",
       "        9839.79166667, 11226.37096774, 19950.        ,  8023.38016529,\n",
       "        8707.5       ,  8648.88888889,  9216.4787234 , 10323.42105263,\n",
       "       10612.81081081, 16225.        ,  7950.        , 10612.81081081,\n",
       "        6625.        ,  8707.5       ,  8707.5       ,  9839.79166667,\n",
       "        6250.        ,  8023.38016529, 10338.68421053,  9495.        ,\n",
       "        5950.        ,  6950.        , 16225.        ,  7404.65517241,\n",
       "        8707.5       ,  6900.        ,  8023.38016529,  8106.33333333,\n",
       "        9417.85714286,  8023.38016529,  8023.38016529, 12495.        ,\n",
       "        9216.4787234 , 12524.32098765,  8023.38016529,  9216.4787234 ,\n",
       "        7404.65517241, 13761.11111111,  8615.38461538,  8106.33333333,\n",
       "        9417.85714286,  8023.38016529,  8023.38016529, 11452.85714286,\n",
       "        8023.38016529,  9495.        ,  9216.4787234 , 19054.09090909,\n",
       "       12524.32098765, 11950.        , 11226.37096774, 17950.        ,\n",
       "       10031.25      , 17242.        , 12524.32098765, 12524.32098765,\n",
       "       14750.        ,  8023.38016529,  9245.        , 12524.32098765,\n",
       "       11226.37096774,  7630.81081081,  9495.        ,  8023.38016529,\n",
       "        9495.        , 12524.32098765,  8023.38016529, 10612.81081081,\n",
       "       15121.42857143, 11226.37096774, 12524.32098765, 11000.        ,\n",
       "        8707.5       , 17165.83333333,  8203.63636364,  8707.5       ,\n",
       "        8023.38016529,  9417.85714286,  4400.        , 20244.44444444,\n",
       "       11226.37096774,  9839.79166667,  8023.38016529, 16225.        ,\n",
       "       16950.        ,  9839.79166667, 11226.37096774, 10323.42105263,\n",
       "       12524.32098765, 13085.66666667,  6133.33333333,  9216.4787234 ,\n",
       "        8023.38016529,  8390.        ,  9216.4787234 , 22100.        ,\n",
       "       13085.66666667, 12862.5       ,  9839.79166667,  8707.5       ,\n",
       "        9995.        ,  8390.        ,  9216.4787234 ,  8023.38016529,\n",
       "        7630.81081081,  8023.38016529,  7630.81081081,  8023.38016529,\n",
       "        6625.        ,  9216.4787234 ,  8615.38461538,  7630.81081081,\n",
       "       12524.32098765,  9495.        , 10323.42105263,  9839.79166667,\n",
       "       13085.66666667, 11226.37096774,  8615.38461538, 11452.85714286,\n",
       "       12524.32098765,  9216.4787234 ,  8106.33333333, 23750.        ])"
      ]
     },
     "execution_count": 23,
     "metadata": {},
     "output_type": "execute_result"
    }
   ],
   "source": [
    "from sklearn.tree import DecisionTreeRegressor\n",
    "reg_model=DecisionTreeRegressor(max_depth=8)\n",
    "reg_model.fit(x_train,y_train)\n",
    "pred_values_dt=reg_model.predict(x_test)\n",
    "pred_values_dt"
   ]
  },
  {
   "cell_type": "code",
   "execution_count": 24,
   "metadata": {},
   "outputs": [
    {
     "name": "stdout",
     "output_type": "stream",
     "text": [
      "accuracy=0.8854005410936965\n",
      "mean absolute error=870.4245196498513\n"
     ]
    }
   ],
   "source": [
    "# r2_score\n",
    "r2_score_dt=r2_score(y_test, pred_values_dt)\n",
    "# mean squared error\n",
    "mae_dt=mean_absolute_error(y_test,pred_values_dt)\n",
    "print(f\"accuracy={r2_score_dt}\")\n",
    "print(f\"mean absolute error={mae_dt}\")"
   ]
  },
  {
   "cell_type": "code",
   "execution_count": 25,
   "metadata": {},
   "outputs": [
    {
     "data": {
      "text/plain": [
       "array([20443.11638745, 11490.94962463,  7469.11583426,  9302.91148033,\n",
       "       10402.2111582 ,  8159.23136951, 10490.43618974, 17317.44717673,\n",
       "        9423.02822906,  8612.56784532,  8255.87806169,  9912.81130842,\n",
       "       12864.40133091,  8167.3919015 , 17877.26311079, 10661.8867532 ,\n",
       "        7653.20958647, 10202.04778373,  8306.30101243, 10089.82114581,\n",
       "        8170.39444292, 11380.3730753 , 12760.37896633, 12525.68830767,\n",
       "        7931.6228075 , 12655.64468722,  7951.19388802, 20181.16172981,\n",
       "        9107.6961342 ,  7613.52462873,  9796.33283398, 23481.73333333,\n",
       "        8296.21172059,  9128.33806716,  7631.61989142, 10479.06770962,\n",
       "        7234.27326941,  8405.30041979,  8616.18721085, 11215.14651079,\n",
       "       10818.06147864, 12970.16318124,  9478.86654487, 10954.75140723,\n",
       "        8216.86672231, 18185.25021152, 10501.88657452, 13164.54666102,\n",
       "        9300.474804  ,  8615.60504119,  8112.22909782,  9490.61602661,\n",
       "        8997.36980112, 10830.71571816, 10488.69232808, 12409.08980704,\n",
       "        8015.77682224, 17307.75938099, 12334.43932406, 15065.26210184,\n",
       "        8667.13853445,  9473.92310158,  9797.79596566, 10881.42565797,\n",
       "       10298.42717368,  9997.36465378, 12603.84567337,  8171.99997114,\n",
       "        8165.31512719,  8262.90183493,  8170.49906003, 19009.17908222,\n",
       "        6800.90306438, 15262.57551263,  8466.84164561, 15810.43080412,\n",
       "        9674.80154345, 12406.14243617, 10154.89575949, 16246.38772226,\n",
       "        8174.66678086, 10310.97604946, 12713.31235238,  9815.10186685,\n",
       "        9830.07311341,  8466.40552467,  6934.80141146,  8159.23136951,\n",
       "       11166.75765456, 12035.35274374,  7063.73021172,  8866.85407977,\n",
       "       12708.06086   , 11431.65437989, 10883.0954488 , 12769.95194773,\n",
       "        8234.49217245,  8660.49409001, 10629.24692025,  9860.97672806,\n",
       "        7602.78025253,  9975.68631913,  9260.17814223,  9923.7963518 ,\n",
       "        9690.57705534, 11490.94962463, 29397.61428571,  9791.27686218,\n",
       "       15273.87511709,  9763.98561619, 10832.16896535, 17815.36312603,\n",
       "       16590.90051457, 13878.12140029,  9179.11908851,  7694.9281652 ,\n",
       "        9947.54985682, 20574.80632723, 12459.16801855,  8207.17210057,\n",
       "       19324.93037067, 12560.92372627,  8252.58637546,  9924.87163189,\n",
       "       10804.17108053,  8634.68787009,  8758.7948515 , 18000.57320749,\n",
       "       15446.3790171 ,  8519.9585526 ,  9169.1101054 ,  9316.52311094,\n",
       "        9248.64327173, 12698.88775937, 23481.73333333, 17249.84221986,\n",
       "       10341.7662005 ,  8692.61427455, 22458.88121323,  7632.39962873,\n",
       "        6472.32618837,  8198.29094514, 11764.75065071,  8132.4726465 ,\n",
       "        7615.32040725,  8417.40394576, 12515.8350476 , 11260.24474605,\n",
       "       12815.11172757, 10955.38098087, 18183.02462463, 17282.4005532 ,\n",
       "       22112.92221045,  7849.99590611,  8117.74473395, 15405.68931461,\n",
       "       15596.39898854,  7992.01924664,  9935.5605499 , 11520.80067677,\n",
       "        7946.57374061, 11388.72168628, 13106.99793234, 12715.74888484,\n",
       "        9828.91455468, 11158.87173599, 19913.18009254,  7861.28489261,\n",
       "        8764.48727588,  9300.04914912,  9295.90450656, 10962.93576303,\n",
       "       10676.43889368, 16319.98461062,  8784.36667705, 10131.04081192,\n",
       "        6950.07189941,  8622.6984629 ,  8590.23107028,  9860.20471073,\n",
       "        8429.24095974,  7812.03758404,  9910.36829337,  9119.19579342,\n",
       "        5968.10745794,  8198.66975452, 16330.78283347,  7468.18317374,\n",
       "        8615.52386245,  7840.64788089,  7894.68436615,  8153.34689181,\n",
       "       10284.32864464,  8502.12020394,  7970.90025758, 11720.24131197,\n",
       "        9474.27980005, 12663.75659998,  7763.64868619,  9355.21780844,\n",
       "        7702.0207987 , 15950.57075776,  8228.70311741,  8623.87607969,\n",
       "        9558.48542156,  8015.99998277,  8324.58388809, 11644.17006191,\n",
       "        7946.57374061,  9421.29004647,  9290.6408467 , 18606.24967733,\n",
       "       12291.14534806,  9807.13695536, 11066.44985136, 18734.80424575,\n",
       "       10200.41126745, 17234.91276652, 12637.07580504, 12383.7845311 ,\n",
       "       12954.38885928,  7973.27964026,  8638.98999731, 12594.22636364,\n",
       "       11688.55865926,  8008.17485332,  9194.57442956,  8014.64877765,\n",
       "        9175.00477339, 12371.26262932,  8029.23122432, 10615.30386846,\n",
       "       15322.84288118, 11580.22907551, 12685.89733906, 10585.44802238,\n",
       "        8602.68925677, 17341.24900491,  8405.84438597,  8666.82814753,\n",
       "        8315.72594368,  9490.38388926,  6133.16512702, 20192.05425591,\n",
       "       11346.89372359,  9870.9875597 ,  7930.9814194 , 16349.20108743,\n",
       "       16645.64492669,  9831.49600926, 10773.00386611, 10244.61871843,\n",
       "       12439.25702927, 12895.06312125,  6480.16211388,  9199.06810211,\n",
       "        8264.66164371,  7938.12502415,  9379.323136  , 21177.08864846,\n",
       "       12680.89486102, 12495.9039591 ,  9872.23765933,  8718.07944497,\n",
       "        9135.33806716,  7957.88272597,  9409.86080832,  7987.22636274,\n",
       "        7665.92115407,  8293.7480601 ,  8009.07485808,  8014.89839807,\n",
       "        6685.41251113,  9196.11834038,  8425.88280639,  8026.19114951,\n",
       "       12307.64463022,  8922.30500446,  9854.75617098,  9937.65388006,\n",
       "       12738.16227585, 11646.40358475,  8263.13971287, 10687.2512746 ,\n",
       "       12567.70867763,  9297.61901483,  8119.42945153, 22112.92221045])"
      ]
     },
     "execution_count": 25,
     "metadata": {},
     "output_type": "execute_result"
    }
   ],
   "source": [
    "from sklearn.ensemble import RandomForestRegressor\n",
    "model_rfr=RandomForestRegressor(max_depth=7)\n",
    "model_rfr.fit(x_train,y_train)\n",
    "pred_values_rfr=model_rfr.predict(x_test)\n",
    "pred_values_rfr"
   ]
  },
  {
   "cell_type": "code",
   "execution_count": 26,
   "metadata": {},
   "outputs": [
    {
     "name": "stdout",
     "output_type": "stream",
     "text": [
      "accuracy=0.9080908377459636\n",
      "mean absolute error=824.1352129183356\n"
     ]
    }
   ],
   "source": [
    "# r2_score\n",
    "r2_score_rfr=r2_score(y_test, pred_values_rfr)\n",
    "# mean squared error\n",
    "mae_rfr=mean_absolute_error(y_test,pred_values_rfr)\n",
    "print(f\"accuracy={r2_score_rfr}\")\n",
    "print(f\"mean absolute error={mae_rfr}\")"
   ]
  },
  {
   "cell_type": "markdown",
   "metadata": {},
   "source": [
    "ridge regression"
   ]
  },
  {
   "cell_type": "code",
   "execution_count": 27,
   "metadata": {},
   "outputs": [
    {
     "data": {
      "text/plain": [
       "array([18664.72691917, 11570.30881358,  6687.679238  ,  9813.49185553,\n",
       "       10809.90507725,  8100.98557991, 10925.88567783, 16087.64198079,\n",
       "       10117.07947774,  8847.65420901,  7999.00869066, 10847.59905067,\n",
       "       13851.20711947,  7804.24091957, 17146.82129087, 10754.08246803,\n",
       "        7549.94990246,  9656.21677221,  7812.22804221, 10171.03516554,\n",
       "        8570.6702651 , 11777.50769462, 13980.90649276, 13246.35521177,\n",
       "        8115.87600867, 13263.68942072,  7806.22347696, 18213.52779073,\n",
       "       10404.88955576,  6354.17080566,  9880.89817203, 22198.758376  ,\n",
       "        8312.67013265,  8184.05865578,  6931.99869858, 10664.2316813 ,\n",
       "        6461.38224502,  8423.08784668,  7894.34953444, 11326.67428928,\n",
       "       10282.85428323, 13217.87923251,  9261.79584345, 10577.03879991,\n",
       "        9193.87897167, 17808.97769012, 10799.73365852, 14855.89554861,\n",
       "        9571.82463875,  9881.89951401,  6980.00144744,  9152.42341783,\n",
       "        8628.5671411 , 10169.63747668, 11406.62535966, 12474.51737192,\n",
       "        7217.52941836, 15950.30828202, 13002.81118004, 15788.80596202,\n",
       "        8915.08018639,  9417.26983893, 10336.2196362 , 11954.26330414,\n",
       "       10318.84216338, 11113.53214124, 13522.36835301,  8680.91952364,\n",
       "        8891.47677394,  7682.92493322,  7950.74470221, 17548.58030351,\n",
       "        5598.364698  , 14812.98545876,  7877.60731885, 15556.71138943,\n",
       "       10700.56669855, 13279.86938542, 10117.49781705, 16472.81324557,\n",
       "        8055.20276173, 10339.8971834 , 12949.97673462,  9555.34135506,\n",
       "        9489.35653477,  9116.58623989,  6298.72638074,  8103.33055286,\n",
       "       12111.43838055, 10743.29650392,  5521.93202291,  8658.67326347,\n",
       "       14229.28175604, 11696.45875586, 10881.5919625 , 13779.93578608,\n",
       "        7651.74636535,  8957.82264788, 11706.98797328, 10253.49305849,\n",
       "        6605.45952018, 11230.81083694,  9210.61242968, 10315.06363898,\n",
       "       10676.26070661, 11435.63464395, 25889.12219162,  9462.59492523,\n",
       "       15219.10190314,  9883.80461069, 11739.14046257, 16194.67310867,\n",
       "       16699.29232931, 12909.32993129,  8903.00527616,  7010.87971482,\n",
       "       10580.2839128 , 18953.33356614, 12898.25464165,  5732.01259856,\n",
       "       16579.24156913, 12822.60917088,  7912.13792827, 10069.96704432,\n",
       "       11228.7861132 ,  8166.77001106,  8279.83338142, 17673.75349726,\n",
       "       15806.28312446,  8659.01865797,  8503.29053377,  9417.91980312,\n",
       "        8731.72988108, 12871.70238103, 22198.758376  , 16654.63747392,\n",
       "       11062.61576654,  8210.09613835, 19960.34430066,  6488.55196498,\n",
       "        5628.38389943,  8763.08207993, 11356.38997903,  8089.61478054,\n",
       "        6348.26218176,  9461.17539734, 13419.47378237, 11103.06774047,\n",
       "       13050.9497218 , 12099.59916611, 17209.02548682, 16751.49196272,\n",
       "       19041.4098184 ,  7426.46271263,  7809.15520538, 15545.41554542,\n",
       "       15436.28637481,  7628.97905983, 10184.95672846, 12193.83206303,\n",
       "        7918.00762422, 10650.12598709, 13811.52719571, 14471.80524857,\n",
       "       10110.20810261, 11355.37793654, 17884.15503263,  6880.72306778,\n",
       "        8658.87540316,  8634.46689939,  8918.99839478, 11313.41557531,\n",
       "       10865.01465266, 16074.00795958,  8285.72457758, 10604.23751131,\n",
       "        6969.9881792 ,  9149.50551984,  9280.394088  ,  9676.41382238,\n",
       "        8550.24024153,  7915.43770191, 10079.82303136,  8404.96206663,\n",
       "        5579.59906279,  8618.9995514 , 16554.12784741,  6079.08771103,\n",
       "        9502.00469339,  8032.3468644 ,  7442.95419328,  7153.81282876,\n",
       "       10073.2879683 ,  8413.05173503,  7863.90659537, 11702.1834609 ,\n",
       "        9693.76894164, 13865.3881484 ,  6398.12383435,  9521.25139412,\n",
       "        6669.80771504, 19040.44147271,  8677.68293192,  8390.13670291,\n",
       "       10002.37537573,  7760.30719916,  7812.73339796, 11903.19381825,\n",
       "        8066.06779242,  9526.44129604,  9344.79217964, 18049.80044146,\n",
       "       13242.89731658,  9482.12031231, 10814.68347598, 17795.34872385,\n",
       "       10770.73027372, 16668.03668495, 13470.78250643, 12930.77041998,\n",
       "       14296.77938459,  8551.81116871,  8118.47778291, 13270.26955427,\n",
       "       12068.83690465,  6886.00314058,  8625.58494495,  7797.09046631,\n",
       "       11620.79506619, 12966.39303954,  7344.78855585, 11302.09724784,\n",
       "       15997.75726381, 12505.339394  , 13675.3046865 , 11418.84594881,\n",
       "        9800.31011821, 16570.60174501,  8310.79205469,  8991.50053986,\n",
       "        8277.467841  , 10085.95234612,  5406.38320053, 18239.10931382,\n",
       "       11354.0652861 , 10447.60707156,  8397.25613338, 16539.96918498,\n",
       "       14798.70023421,  9969.93244406, 10816.86668724, 10322.92099778,\n",
       "       12214.61892771, 13972.66439146,  6422.99344714,  8759.54706305,\n",
       "        8592.02503461,  7040.71847657, 10227.77751332, 19317.70503751,\n",
       "       12920.41108836, 12481.19185431, 10156.51859398,  9289.5052694 ,\n",
       "        8247.07092133,  6539.43433033, 10238.13093218,  7947.21574724,\n",
       "        7358.48286643,  7844.50918593,  7946.27314851,  8078.39567117,\n",
       "        5423.42837298,  8579.09345998,  7967.02955906,  8060.50799158,\n",
       "       12976.73073087,  7986.67563665,  9934.08106778, 10308.52258032,\n",
       "       13289.15452641, 12849.68445707,  7958.89544126, 10703.01890822,\n",
       "       13591.23238931,  8662.33177703,  7587.91961488, 19062.97646356])"
      ]
     },
     "execution_count": 27,
     "metadata": {},
     "output_type": "execute_result"
    }
   ],
   "source": [
    "from sklearn.linear_model import Ridge\n",
    "ridge_model=Ridge(alpha=1)\n",
    "ridge_model.fit(x_train,y_train)\n",
    "ridge_predict=ridge_model.predict(x_test)\n",
    "ridge_predict"
   ]
  },
  {
   "cell_type": "code",
   "execution_count": 28,
   "metadata": {},
   "outputs": [
    {
     "name": "stdout",
     "output_type": "stream",
     "text": [
      "accuracy=0.8784449613748622\n",
      "mean absolute error=984.3247091094919\n"
     ]
    }
   ],
   "source": [
    "# r2_score\n",
    "r2_score_ridge=r2_score(y_test, ridge_predict)\n",
    "# mean squared error\n",
    "mae_ridge=mean_absolute_error(y_test,ridge_predict)\n",
    "print(f\"accuracy={r2_score_ridge}\")\n",
    "print(f\"mean absolute error={mae_ridge}\")"
   ]
  },
  {
   "cell_type": "markdown",
   "metadata": {},
   "source": [
    "lasso regression"
   ]
  },
  {
   "cell_type": "code",
   "execution_count": 29,
   "metadata": {},
   "outputs": [
    {
     "data": {
      "text/plain": [
       "array([18676.58619306, 11570.08047743,  6688.11977518,  9816.49505177,\n",
       "       10808.27500759,  8101.73302345, 10928.92043604, 16091.62717518,\n",
       "       10119.58974108,  8848.21258627,  8004.45612498, 10848.11905431,\n",
       "       13851.54434008,  7809.06709306, 17127.37874427, 10752.73269465,\n",
       "        7552.41870679,  9658.05854015,  7817.34009548, 10172.82769648,\n",
       "        8570.45975518, 11779.89996844, 13981.17823869, 13245.67899832,\n",
       "        8117.72221516, 13263.75949317,  7809.96705756, 18212.71819655,\n",
       "       10390.03234994,  6355.64172829,  9880.49699392, 22204.30838796,\n",
       "        8317.86615908,  8184.79033154,  6933.67755706, 10662.24058849,\n",
       "        6461.68798427,  8421.18201797,  7895.60960718, 11326.52473922,\n",
       "       10285.95827701, 13221.90871032,  9261.12445041, 10578.74573147,\n",
       "        9198.75651863, 17789.90948892, 10798.50089712, 14859.19010027,\n",
       "        9575.48005303,  9880.60945329,  6982.32456576,  9153.21654681,\n",
       "        8630.59194564, 10167.41978752, 11409.16629624, 12477.68252396,\n",
       "        7217.83519532, 15953.7753435 , 13002.4128227 , 15789.84576766,\n",
       "        8916.26175932,  9400.38506949, 10320.39374383, 11952.9312966 ,\n",
       "       10320.78758065, 11114.55647421, 13522.08829164,  8680.90697594,\n",
       "        8891.57076209,  7687.63272698,  7950.77875244, 17550.07761699,\n",
       "        5597.66388983, 14810.44954447,  7878.28370908, 15554.96782399,\n",
       "       10705.16271556, 13278.74531451, 10119.62477924, 16474.26663179,\n",
       "        8059.93648288, 10342.42348319, 12953.79670815,  9540.80783303,\n",
       "        9469.0276934 ,  9117.25651627,  6297.38236615,  8104.082207  ,\n",
       "       12097.54575817, 10742.65807325,  5518.25690254,  8658.50719003,\n",
       "       14229.184867  , 11696.7016481 , 10886.13859894, 13761.37357823,\n",
       "        7650.6640996 ,  8959.08096866, 11710.3397755 , 10254.0324454 ,\n",
       "        6606.5670392 , 11212.83136885,  9212.58120458, 10315.26995866,\n",
       "       10681.62769464, 11435.50865735, 25894.70572162,  9462.62825342,\n",
       "       15220.47644606,  9870.1840566 , 11737.69372127, 16194.04001825,\n",
       "       16697.15652459, 12909.63198094,  8904.69325359,  7013.46672404,\n",
       "       10596.04701786, 18960.90059001, 12897.49645944,  5733.22165166,\n",
       "       16579.57054334, 12825.92890659,  7912.91727121, 10057.2238376 ,\n",
       "       11227.20465036,  8167.73503008,  8282.52660288, 17672.83511304,\n",
       "       15808.16892645,  8641.7519293 ,  8502.04496929,  9421.57040594,\n",
       "        8733.92493306, 12873.21963332, 22204.30838796, 16656.41734151,\n",
       "       11059.95426573,  8212.49205604, 19959.68434885,  6489.9926426 ,\n",
       "        5627.19391699,  8764.80248359, 11358.70621855,  8073.01337012,\n",
       "        6349.45095675,  9461.40508417, 13419.00896475, 11102.61613898,\n",
       "       13036.74944617, 12098.62757564, 17206.99033818, 16753.44574106,\n",
       "       19040.72906816,  7429.85158353,  7814.58892519, 15547.10447495,\n",
       "       15434.86965206,  7633.21899708, 10185.47250614, 12197.95036465,\n",
       "        7921.68038488, 10648.77105725, 13795.58170084, 14471.60075539,\n",
       "       10110.21867062, 11356.31013887, 17883.84017349,  6884.16252206,\n",
       "        8662.00680684,  8633.4568736 ,  8922.83929314, 11315.89643798,\n",
       "       10862.56946875, 16074.74525589,  8295.24085615, 10601.02449028,\n",
       "        6967.17504222,  9150.33435945,  9280.91487315,  9676.83108118,\n",
       "        8550.22077803,  7917.25318235, 10066.55444556,  8405.22481979,\n",
       "        5577.53083355,  8619.16279159, 16552.0029253 ,  6079.79315963,\n",
       "        9503.19493803,  8035.73750074,  7442.52008367,  7138.7359158 ,\n",
       "       10075.06400964,  8414.08798256,  7866.22626978, 11703.07916248,\n",
       "        9676.8889264 , 13865.18093282,  6395.60519382,  9525.35907607,\n",
       "        6671.57385327, 19035.65547254,  8682.9912945 ,  8393.36261378,\n",
       "       10002.5195047 ,  7760.44292475,  7817.67427421, 11903.09276065,\n",
       "        8069.73486993,  9525.13212129,  9348.58301358, 18049.50363634,\n",
       "       13241.84390223,  9479.48886722, 10817.38472484, 17797.31279021,\n",
       "       10772.90897814, 16666.11629616, 13470.95289451, 12929.01951122,\n",
       "       14299.06999408,  8555.80736473,  8119.62762718, 13270.07990374,\n",
       "       12069.47689636,  6885.81022888,  8622.03295775,  7797.46432391,\n",
       "       11626.82792209, 12965.92929023,  7347.75169115, 11304.54994879,\n",
       "       15999.17225986, 12505.40547332, 13676.23874343, 11419.94805381,\n",
       "        9801.49292006, 16570.07376799,  8292.52975449,  8992.86028222,\n",
       "        8282.1527525 , 10086.51808307,  5414.19432837, 18238.34565351,\n",
       "       11358.03340366, 10447.95193086,  8400.97481226, 16537.81883975,\n",
       "       14800.88727376,  9955.18776437, 10820.58537835, 10325.14527714,\n",
       "       12217.76103187, 13973.02079175,  6421.62499202,  8761.34844061,\n",
       "        8593.79315573,  7042.60754128, 10231.25305765, 19321.67803739,\n",
       "       12920.23576638, 12481.31059299, 10156.16869393,  9274.97074676,\n",
       "        8247.91574115,  6541.50944808, 10242.43968154,  7946.87246897,\n",
       "        7361.15095125,  7842.9852513 ,  7945.68346265,  8078.83101435,\n",
       "        5424.35487419,  8581.01443987,  7951.83726525,  8041.42529242,\n",
       "       12979.24105262,  7988.94621516,  9936.27773172, 10308.17407858,\n",
       "       13289.09823928, 12850.0973    ,  7964.27084872, 10701.84898392,\n",
       "       13590.80444117,  8645.67257752,  7591.31931334, 19062.33443812])"
      ]
     },
     "execution_count": 29,
     "metadata": {},
     "output_type": "execute_result"
    }
   ],
   "source": [
    "from sklearn.linear_model import Lasso\n",
    "Lasso_model=Lasso()\n",
    "Lasso_model.fit(x_train,y_train)\n",
    "lasso_pred=Lasso_model.predict(x_test)\n",
    "lasso_pred"
   ]
  },
  {
   "cell_type": "code",
   "execution_count": 30,
   "metadata": {},
   "outputs": [
    {
     "name": "stdout",
     "output_type": "stream",
     "text": [
      "accuracy=0.8784018206730952\n",
      "mean absolute error=984.7714769430435\n"
     ]
    }
   ],
   "source": [
    "# r2_score\n",
    "r2_score_lasso=r2_score(y_test,lasso_pred)\n",
    "# mean squared error\n",
    "mae_lasso=mean_absolute_error(y_test,lasso_pred)\n",
    "print(f\"accuracy={r2_score_lasso}\")\n",
    "print(f\"mean absolute error={mae_lasso}\")"
   ]
  },
  {
   "cell_type": "markdown",
   "metadata": {},
   "source": [
    "From the above model comparisions randomforest regressor contains high accuracy rate with less error, so that we can use that for predicting further more predictions."
   ]
  },
  {
   "cell_type": "markdown",
   "metadata": {},
   "source": [
    "Q1. Normalization and standardization are the part of data preprocessing both are used to rescale the values of numerical columns in the dataset which reduce the magnitude and make them easier to compariable."
   ]
  },
  {
   "cell_type": "markdown",
   "metadata": {},
   "source": [
    "Q2. Multi colinearity occurs when variables are highly corelated by removing the varibles which have less importance in prediction and by using techniques like PCA and  lasso and ridge regression methods we can reduce multi colinearity. "
   ]
  }
 ],
 "metadata": {
  "kernelspec": {
   "display_name": "Python 3",
   "language": "python",
   "name": "python3"
  },
  "language_info": {
   "codemirror_mode": {
    "name": "ipython",
    "version": 3
   },
   "file_extension": ".py",
   "mimetype": "text/x-python",
   "name": "python",
   "nbconvert_exporter": "python",
   "pygments_lexer": "ipython3",
   "version": "3.12.3"
  }
 },
 "nbformat": 4,
 "nbformat_minor": 2
}
